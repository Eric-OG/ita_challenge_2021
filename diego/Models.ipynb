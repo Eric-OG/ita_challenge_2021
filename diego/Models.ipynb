{
 "metadata": {
  "language_info": {
   "codemirror_mode": {
    "name": "ipython",
    "version": 3
   },
   "file_extension": ".py",
   "mimetype": "text/x-python",
   "name": "python",
   "nbconvert_exporter": "python",
   "pygments_lexer": "ipython3",
   "version": "3.8.5"
  },
  "orig_nbformat": 2,
  "kernelspec": {
   "name": "python385jvsc74a57bd0648cb497f9726581f5c61f68ba7fae955320a0270152a187dbdef1af63b80d02",
   "display_name": "Python 3.8.5 64-bit ('base': conda)"
  },
  "metadata": {
   "interpreter": {
    "hash": "648cb497f9726581f5c61f68ba7fae955320a0270152a187dbdef1af63b80d02"
   }
  }
 },
 "nbformat": 4,
 "nbformat_minor": 2,
 "cells": [
  {
   "cell_type": "code",
   "execution_count": 65,
   "metadata": {},
   "outputs": [],
   "source": [
    "import pandas as pd\n",
    "import numpy as np\n",
    "from sklearn.model_selection import train_test_split\n",
    "from sklearn.ensemble import RandomForestRegressor\n",
    "from sklearn.metrics import mean_squared_error"
   ]
  },
  {
   "cell_type": "code",
   "execution_count": 3,
   "metadata": {},
   "outputs": [
    {
     "output_type": "execute_result",
     "data": {
      "text/plain": [
       "     n    p    f   x   y   z   a1    a2   a3    a4  ...     g1   g2     l1  \\\n",
       "0  709  0.7  0.2  16  12   7  3.8  0.24  2.3  0.28  ...  0.186  0.5  0.147   \n",
       "1  921  0.6  0.3  19  17  10  3.0  0.12  2.4  0.19  ...  0.079  1.2  0.186   \n",
       "2  177  0.8  0.4  14  12   5  3.2  0.17  1.8  0.18  ...  0.036  1.4  0.048   \n",
       "3  415  0.7  0.5  24  11   2  1.3  0.17  1.5  0.18  ...  0.063  1.1  0.151   \n",
       "4  802  0.8  0.4  21  10   3  4.4  0.15  2.6  0.13  ...  0.044  1.9  0.123   \n",
       "\n",
       "    l2     l3   l4   e1   e2  cent_price_cor  cent_trans_cor  \n",
       "0  1.5  0.089  1.6  1.5  2.6          -0.169           0.375  \n",
       "1  1.6  0.076  1.8  0.6  0.4          -0.075           0.234  \n",
       "2  0.7  0.073  0.6  2.7  0.3          -0.177           0.389  \n",
       "3  0.8  0.022  1.1  0.5  0.1          -0.102           0.358  \n",
       "4  1.9  0.046  1.1  2.0  0.6          -0.034           0.180  \n",
       "\n",
       "[5 rows x 28 columns]"
      ],
      "text/html": "<div>\n<style scoped>\n    .dataframe tbody tr th:only-of-type {\n        vertical-align: middle;\n    }\n\n    .dataframe tbody tr th {\n        vertical-align: top;\n    }\n\n    .dataframe thead th {\n        text-align: right;\n    }\n</style>\n<table border=\"1\" class=\"dataframe\">\n  <thead>\n    <tr style=\"text-align: right;\">\n      <th></th>\n      <th>n</th>\n      <th>p</th>\n      <th>f</th>\n      <th>x</th>\n      <th>y</th>\n      <th>z</th>\n      <th>a1</th>\n      <th>a2</th>\n      <th>a3</th>\n      <th>a4</th>\n      <th>...</th>\n      <th>g1</th>\n      <th>g2</th>\n      <th>l1</th>\n      <th>l2</th>\n      <th>l3</th>\n      <th>l4</th>\n      <th>e1</th>\n      <th>e2</th>\n      <th>cent_price_cor</th>\n      <th>cent_trans_cor</th>\n    </tr>\n  </thead>\n  <tbody>\n    <tr>\n      <th>0</th>\n      <td>709</td>\n      <td>0.7</td>\n      <td>0.2</td>\n      <td>16</td>\n      <td>12</td>\n      <td>7</td>\n      <td>3.8</td>\n      <td>0.24</td>\n      <td>2.3</td>\n      <td>0.28</td>\n      <td>...</td>\n      <td>0.186</td>\n      <td>0.5</td>\n      <td>0.147</td>\n      <td>1.5</td>\n      <td>0.089</td>\n      <td>1.6</td>\n      <td>1.5</td>\n      <td>2.6</td>\n      <td>-0.169</td>\n      <td>0.375</td>\n    </tr>\n    <tr>\n      <th>1</th>\n      <td>921</td>\n      <td>0.6</td>\n      <td>0.3</td>\n      <td>19</td>\n      <td>17</td>\n      <td>10</td>\n      <td>3.0</td>\n      <td>0.12</td>\n      <td>2.4</td>\n      <td>0.19</td>\n      <td>...</td>\n      <td>0.079</td>\n      <td>1.2</td>\n      <td>0.186</td>\n      <td>1.6</td>\n      <td>0.076</td>\n      <td>1.8</td>\n      <td>0.6</td>\n      <td>0.4</td>\n      <td>-0.075</td>\n      <td>0.234</td>\n    </tr>\n    <tr>\n      <th>2</th>\n      <td>177</td>\n      <td>0.8</td>\n      <td>0.4</td>\n      <td>14</td>\n      <td>12</td>\n      <td>5</td>\n      <td>3.2</td>\n      <td>0.17</td>\n      <td>1.8</td>\n      <td>0.18</td>\n      <td>...</td>\n      <td>0.036</td>\n      <td>1.4</td>\n      <td>0.048</td>\n      <td>0.7</td>\n      <td>0.073</td>\n      <td>0.6</td>\n      <td>2.7</td>\n      <td>0.3</td>\n      <td>-0.177</td>\n      <td>0.389</td>\n    </tr>\n    <tr>\n      <th>3</th>\n      <td>415</td>\n      <td>0.7</td>\n      <td>0.5</td>\n      <td>24</td>\n      <td>11</td>\n      <td>2</td>\n      <td>1.3</td>\n      <td>0.17</td>\n      <td>1.5</td>\n      <td>0.18</td>\n      <td>...</td>\n      <td>0.063</td>\n      <td>1.1</td>\n      <td>0.151</td>\n      <td>0.8</td>\n      <td>0.022</td>\n      <td>1.1</td>\n      <td>0.5</td>\n      <td>0.1</td>\n      <td>-0.102</td>\n      <td>0.358</td>\n    </tr>\n    <tr>\n      <th>4</th>\n      <td>802</td>\n      <td>0.8</td>\n      <td>0.4</td>\n      <td>21</td>\n      <td>10</td>\n      <td>3</td>\n      <td>4.4</td>\n      <td>0.15</td>\n      <td>2.6</td>\n      <td>0.13</td>\n      <td>...</td>\n      <td>0.044</td>\n      <td>1.9</td>\n      <td>0.123</td>\n      <td>1.9</td>\n      <td>0.046</td>\n      <td>1.1</td>\n      <td>2.0</td>\n      <td>0.6</td>\n      <td>-0.034</td>\n      <td>0.180</td>\n    </tr>\n  </tbody>\n</table>\n<p>5 rows × 28 columns</p>\n</div>"
     },
     "metadata": {},
     "execution_count": 3
    }
   ],
   "source": [
    "public_train_df = pd.read_csv(\"../data/raw/public-train.csv\")\n",
    "public_train_df.head()"
   ]
  },
  {
   "cell_type": "code",
   "execution_count": 4,
   "metadata": {},
   "outputs": [],
   "source": [
    "X_colums = ['n', 'p', 'f', 'x', 'y', 'z', 'a1', 'a2', 'a3', 'a4', 'b1', 'b2', 'b3',\n",
    "       'b4', 'c1', 'c2', 'c3', 'c4', 'g1', 'g2', 'l1', 'l2', 'l3', 'l4', 'e1',\n",
    "       'e2']\n",
    "Y_columns = [\"cent_price_cor\", \"cent_trans_cor\"]\n",
    "\n",
    "X = public_train_df.loc[:, X_colums].values\n",
    "Y = public_train_df.loc[:, Y_columns].values"
   ]
  },
  {
   "cell_type": "code",
   "execution_count": 5,
   "metadata": {},
   "outputs": [],
   "source": [
    "X_train, X_test, Y_train, Y_test = train_test_split(X, Y)"
   ]
  },
  {
   "cell_type": "code",
   "execution_count": 20,
   "metadata": {
    "tags": []
   },
   "outputs": [],
   "source": [
    "columns_index_map = { }\n",
    "\n",
    "for i, name in zip(range(len(X_colums)), X_colums):\n",
    "    columns_index_map[name] = i\n",
    "\n",
    "\n",
    "def gen_dataset(X, Y, index_map, n_samples):\n",
    "    X_novo = []\n",
    "    y_cent_price_cor_novo = []\n",
    "    y_cent_trans_cor_novo = []\n",
    "\n",
    "    for i, x in zip(range(len(X)), X):\n",
    "        preco_fundamental_consumidor = np.random.normal(x[index_map[\"a1\"]], x[index_map[\"a2\"]], n_samples)\n",
    "        preco_fundamental_traders = np.random.normal(x[index_map[\"a3\"]], x[index_map[\"a4\"]], n_samples)\n",
    "        preco_mercado_consumidor = np.random.normal(x[index_map[\"b1\"]], x[index_map[\"b2\"]], n_samples)\n",
    "        preco_mercado_traders = np.random.normal(x[index_map[\"b3\"]], x[index_map[\"b4\"]], n_samples)\n",
    "        preco_aleatorio_consumidor = np.random.normal(x[index_map[\"c1\"]], x[index_map[\"c2\"]], n_samples)\n",
    "        preco_aleatorio_trader = np.random.normal(x[index_map[\"c3\"]], x[index_map[\"c4\"]], n_samples)\n",
    "        pgressividade_consumidor = np.random.normal(x[index_map[\"g1\"]], x[index_map[\"g2\"]], n_samples)\n",
    "        pesvalorizacao_consumidor = np.random.normal(x[index_map[\"l1\"]], x[index_map[\"l2\"]], n_samples) \n",
    "        pesvalorizacao_trader = np.random.normal(x[index_map[\"l3\"]], x[index_map[\"l4\"]], n_samples) \n",
    "\n",
    "\n",
    "        for j in range(n_samples):\n",
    "            x_novo = [\n",
    "                x[index_map[\"n\"]],\n",
    "                x[index_map[\"p\"]],\n",
    "                x[index_map[\"f\"]],\n",
    "                x[index_map[\"x\"]],\n",
    "                x[index_map[\"y\"]],\n",
    "                x[index_map[\"z\"]],\n",
    "                preco_fundamental_consumidor[j],\n",
    "                preco_fundamental_traders[j],\n",
    "                preco_mercado_consumidor[j],\n",
    "                preco_mercado_traders[j],\n",
    "                preco_aleatorio_consumidor[j],\n",
    "                preco_aleatorio_trader[j],\n",
    "                pgressividade_consumidor[j],\n",
    "                pesvalorizacao_consumidor[j],\n",
    "                pesvalorizacao_trader[j], \n",
    "                x[index_map[\"e1\"]],\n",
    "                x[index_map[\"e2\"]]\n",
    "            ]\n",
    "\n",
    "            X_novo.append(x_novo)\n",
    "            y_cent_price_cor_novo.append(Y[i][0])\n",
    "            y_cent_trans_cor_novo.append(Y[i][1])\n",
    "\n",
    "    return np.array(X_novo), np.array(y_cent_price_cor_novo), np.array(y_cent_trans_cor_novo)"
   ]
  },
  {
   "cell_type": "code",
   "execution_count": 26,
   "metadata": {},
   "outputs": [
    {
     "output_type": "execute_result",
     "data": {
      "text/plain": [
       "((89550, 17), (89550,), (89550,))"
      ]
     },
     "metadata": {},
     "execution_count": 26
    }
   ],
   "source": [
    "X_train_inflated, y_price_train, y_trans_train = gen_dataset(X_train, Y_train, columns_index_map, 10)\n",
    "X_train_inflated.shape, y_price_train.shape, y_trans_train.shape"
   ]
  },
  {
   "cell_type": "code",
   "execution_count": 64,
   "metadata": {},
   "outputs": [],
   "source": [
    "def predict(X, index_map, n_samples, model):\n",
    "    predictions = []\n",
    "\n",
    "    for i, x in zip(range(len(X)), X):\n",
    "        X_novo = []\n",
    "        preco_fundamental_consumidor = np.random.normal(x[index_map[\"a1\"]], x[index_map[\"a2\"]], n_samples)\n",
    "        preco_fundamental_traders = np.random.normal(x[index_map[\"a3\"]], x[index_map[\"a4\"]], n_samples)\n",
    "        preco_mercado_consumidor = np.random.normal(x[index_map[\"b1\"]], x[index_map[\"b2\"]], n_samples)\n",
    "        preco_mercado_traders = np.random.normal(x[index_map[\"b3\"]], x[index_map[\"b4\"]], n_samples)\n",
    "        preco_aleatorio_consumidor = np.random.normal(x[index_map[\"c1\"]], x[index_map[\"c2\"]], n_samples)\n",
    "        preco_aleatorio_trader = np.random.normal(x[index_map[\"c3\"]], x[index_map[\"c4\"]], n_samples)\n",
    "        pgressividade_consumidor = np.random.normal(x[index_map[\"g1\"]], x[index_map[\"g2\"]], n_samples)\n",
    "        pesvalorizacao_consumidor = np.random.normal(x[index_map[\"l1\"]], x[index_map[\"l2\"]], n_samples) \n",
    "        pesvalorizacao_trader = np.random.normal(x[index_map[\"l3\"]], x[index_map[\"l4\"]], n_samples) \n",
    "\n",
    "        for j in range(n_samples):\n",
    "            x_novo = [\n",
    "                x[index_map[\"n\"]],\n",
    "                x[index_map[\"p\"]],\n",
    "                x[index_map[\"f\"]],\n",
    "                x[index_map[\"x\"]],\n",
    "                x[index_map[\"y\"]],\n",
    "                x[index_map[\"z\"]],\n",
    "                preco_fundamental_consumidor[j],\n",
    "                preco_fundamental_traders[j],\n",
    "                preco_mercado_consumidor[j],\n",
    "                preco_mercado_traders[j],\n",
    "                preco_aleatorio_consumidor[j],\n",
    "                preco_aleatorio_trader[j],\n",
    "                pgressividade_consumidor[j],\n",
    "                pesvalorizacao_consumidor[j],\n",
    "                pesvalorizacao_trader[j], \n",
    "                x[index_map[\"e1\"]],\n",
    "                x[index_map[\"e2\"]]\n",
    "            ]\n",
    "\n",
    "            X_novo.append(x_novo)\n",
    "\n",
    "        y_predict = model.predict(X_novo)\n",
    "        predictions.append(np.mean(y_predict))\n",
    "\n",
    "    return predictions"
   ]
  }
 ]
}